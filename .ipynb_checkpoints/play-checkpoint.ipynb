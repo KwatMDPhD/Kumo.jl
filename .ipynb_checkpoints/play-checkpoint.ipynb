{
 "cells": [
  {
   "cell_type": "code",
   "execution_count": 207,
   "id": "06cd8e7d",
   "metadata": {},
   "outputs": [],
   "source": [
    "using Revise"
   ]
  },
  {
   "cell_type": "code",
   "execution_count": 208,
   "id": "dee6295e",
   "metadata": {},
   "outputs": [],
   "source": [
    "using Kumo"
   ]
  },
  {
   "cell_type": "code",
   "execution_count": 209,
   "id": "af007067",
   "metadata": {},
   "outputs": [
    {
     "ename": "LoadError",
     "evalue": "LoadError: UndefVarError: FibrinClot not defined\nin expression starting at /Users/kwat/craft/Immunology.ito/connection.jl:394\nin expression starting at /Users/kwat/craft/Immunology.ito/_.jl:11",
     "output_type": "error",
     "traceback": [
      "LoadError: UndefVarError: FibrinClot not defined\nin expression starting at /Users/kwat/craft/Immunology.ito/connection.jl:394\nin expression starting at /Users/kwat/craft/Immunology.ito/_.jl:11",
      "",
      "Stacktrace:",
      " [1] top-level scope",
      "   @ ~/craft/Immunology.ito/connection.jl:394",
      " [2] include(fname::String)",
      "   @ Base.MainInclude ./client.jl:451",
      " [3] top-level scope",
      "   @ ~/craft/Immunology.ito/_.jl:11",
      " [4] include(fname::String)",
      "   @ Base.MainInclude ./client.jl:451",
      " [5] top-level scope",
      "   @ In[209]:1",
      " [6] eval",
      "   @ ./boot.jl:373 [inlined]",
      " [7] include_string(mapexpr::typeof(REPL.softscope), mod::Module, code::String, filename::String)",
      "   @ Base ./loading.jl:1196"
     ]
    }
   ],
   "source": [
    "include(\"../Immunology.ito/_.jl\")\n",
    "\n",
    "Kumo.connect_struct()\n",
    "\n",
    "Kumo.plot()\n",
    "\n",
    "Kumo.reset()"
   ]
  },
  {
   "cell_type": "code",
   "execution_count": null,
   "id": "38923ca2",
   "metadata": {},
   "outputs": [],
   "source": []
  }
 ],
 "metadata": {
  "@webio": {
   "lastCommId": null,
   "lastKernelId": null
  },
  "kernelspec": {
   "display_name": "Julia 1.7.2",
   "language": "julia",
   "name": "julia-1.7"
  },
  "language_info": {
   "file_extension": ".jl",
   "mimetype": "application/julia",
   "name": "julia",
   "version": "1.7.2"
  }
 },
 "nbformat": 4,
 "nbformat_minor": 5
}
