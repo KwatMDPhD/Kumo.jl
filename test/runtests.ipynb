{
 "cells": [
  {
   "cell_type": "code",
   "execution_count": null,
   "id": "06cd8e7d",
   "metadata": {},
   "outputs": [],
   "source": [
    "using Revise"
   ]
  },
  {
   "cell_type": "code",
   "execution_count": null,
   "id": "73c411a9",
   "metadata": {},
   "outputs": [],
   "source": [
    "using Kumo"
   ]
  },
  {
   "cell_type": "code",
   "execution_count": null,
   "id": "dc20a031",
   "metadata": {},
   "outputs": [],
   "source": [
    "include(\"letter.jl\")\n",
    "\n",
    "Kumo.connect_struct()\n",
    "\n",
    "println(Kumo.plot())\n",
    "\n",
    "Kumo.reset()"
   ]
  },
  {
   "cell_type": "code",
   "execution_count": null,
   "id": "dee6295e",
   "metadata": {},
   "outputs": [],
   "source": [
    "using Colors"
   ]
  },
  {
   "cell_type": "code",
   "execution_count": null,
   "id": "27ef9620",
   "metadata": {},
   "outputs": [],
   "source": [
    "include(\"../../Immunology.ito/_.jl\")\n",
    "\n",
    "st_ = []\n",
    "\n",
    "sc = false\n",
    "\n",
    "if sc\n",
    "\n",
    "    co_ = Colors.colormap(\"Reds\", sum(isa.(Kumo.VE_, DataType)))\n",
    "\n",
    "    id = 1\n",
    "\n",
    "end\n",
    "\n",
    "si = 32\n",
    "\n",
    "gr_st = Dict(\n",
    "    \"cell\" => Dict(\"background-color\" => \"#20d9ba\", \"height\" => si, \"width\" => si),\n",
    "    \"protein\" => Dict(\"background-color\" => \"#9017e6\"),\n",
    ")\n",
    "\n",
    "for ve in reverse(Kumo.VE_)\n",
    "\n",
    "    if ve isa DataType\n",
    "\n",
    "        st = get(\n",
    "            gr_st,\n",
    "            splitext(basename(functionloc(methods(ve)[1])[1]))[1],\n",
    "            Dict(\"background-color\" => \"#4e40d8\"),\n",
    "        )\n",
    "\n",
    "        if sc\n",
    "\n",
    "            st[\"background-color\"] = \"#$(hex(co_[id]))\"\n",
    "\n",
    "            id += 1\n",
    "\n",
    "        end\n",
    "\n",
    "        push!(st_, Dict(\"selector\" => \"#$ve\", \"style\" => st))\n",
    "\n",
    "    end\n",
    "\n",
    "end\n",
    "\n",
    "if sc\n",
    "\n",
    "    push!(st_, Dict(\"selector\" => \".ed\", \"style\" => Dict(\"background-color\" => \"#c6c2b6\")))\n",
    "\n",
    "else\n",
    "\n",
    "    append!(\n",
    "        st_,\n",
    "        [\n",
    "            Dict(\"selector\" => \".has\", \"style\" => Dict(\"background-color\" => \"#8db255\")),\n",
    "            Dict(\"selector\" => \".act\", \"style\" => Dict(\"background-color\" => \"#ffa400\")),\n",
    "            Dict(\"selector\" => \".react\", \"style\" => Dict(\"background-color\" => \"#ff1968\")),\n",
    "        ],\n",
    "    )\n",
    "\n",
    "end\n",
    "\n",
    "println(Kumo.plot(st_ = st_, ou = \"plot.html\"))\n",
    "\n",
    "Kumo.reset()"
   ]
  }
 ],
 "metadata": {
  "@webio": {
   "lastCommId": null,
   "lastKernelId": null
  },
  "kernelspec": {
   "display_name": "Julia 1.7.2",
   "language": "julia",
   "name": "julia-1.7"
  },
  "language_info": {
   "file_extension": ".jl",
   "mimetype": "application/julia",
   "name": "julia",
   "version": "1.7.2"
  }
 },
 "nbformat": 4,
 "nbformat_minor": 5
}
