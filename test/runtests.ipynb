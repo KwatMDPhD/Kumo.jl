{
 "cells": [
  {
   "cell_type": "code",
   "execution_count": null,
   "id": "06cd8e7d",
   "metadata": {},
   "outputs": [],
   "source": [
    "using Revise\n",
    "\n",
    "using Kumo\n",
    "\n",
    "using Colors"
   ]
  },
  {
   "cell_type": "code",
   "execution_count": null,
   "id": "c8fc7116",
   "metadata": {},
   "outputs": [],
   "source": [
    "include(\"../../Immunology.ito/_.jl\")\n",
    "\n",
    "Kumo.field()\n",
    "\n",
    "Kumo.plot(ou = \"plot.html\")\n",
    "\n",
    "Kumo.reset()"
   ]
  },
  {
   "cell_type": "code",
   "execution_count": null,
   "id": "eb10336c",
   "metadata": {},
   "outputs": [],
   "source": [
    "st_ = []\n",
    "\n",
    "sc = true\n",
    "\n",
    "co_ = Colors.colormap(\"Reds\", sum(isa.(Kumo.VE_, DataType)))\n",
    "\n",
    "id = 1\n",
    "\n",
    "si = 48\n",
    "\n",
    "gr_st = Dict(\n",
    "    \"cell\" => Dict(\"background-color\" => \"#20d9ba\", \"height\" => si, \"width\" => si),\n",
    "    \"protein\" => Dict(\"background-color\" => \"#9017e6\"),\n",
    ")\n",
    "\n",
    "for ve in Kumo.VE_\n",
    "\n",
    "    if ve isa DataType\n",
    "\n",
    "        st = get(\n",
    "            gr_st,\n",
    "            splitext(basename(functionloc(methods(ve)[1])[1]))[1],\n",
    "            Dict(\"background-color\" => \"#4e40d8\"),\n",
    "        )\n",
    "\n",
    "        if sc\n",
    "\n",
    "            st[\"background-color\"] = \"#$(hex(co_[id]))\"\n",
    "\n",
    "            id += 1\n",
    "\n",
    "        end\n",
    "\n",
    "        push!(st_, Dict(\"selector\" => \"#$ve\", \"style\" => st))\n",
    "\n",
    "    end\n",
    "\n",
    "end\n",
    "\n",
    "if sc\n",
    "\n",
    "    push!(st_, Dict(\"selector\" => \".ed\", \"style\" => Dict(\"background-color\" => \"#c6c2b6\")))\n",
    "\n",
    "end"
   ]
  },
  {
   "cell_type": "code",
   "execution_count": null,
   "id": "ed5766c3",
   "metadata": {},
   "outputs": [],
   "source": [
    "Kumo.plot(st_ = st_, ou = \"plot.html\")"
   ]
  },
  {
   "cell_type": "code",
   "execution_count": null,
   "id": "590d2d45",
   "metadata": {},
   "outputs": [],
   "source": [
    "Kumo.reset()"
   ]
  }
 ],
 "metadata": {
  "@webio": {
   "lastCommId": null,
   "lastKernelId": null
  },
  "kernelspec": {
   "display_name": "Julia 1.7.2",
   "language": "julia",
   "name": "julia-1.7"
  },
  "language_info": {
   "file_extension": ".jl",
   "mimetype": "application/julia",
   "name": "julia",
   "version": "1.7.2"
  }
 },
 "nbformat": 4,
 "nbformat_minor": 5
}
