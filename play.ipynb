{
 "cells": [
  {
   "cell_type": "code",
   "execution_count": null,
   "id": "3320142f",
   "metadata": {},
   "outputs": [],
   "source": [
    "using Revise"
   ]
  },
  {
   "cell_type": "code",
   "execution_count": null,
   "id": "cb9ca82b",
   "metadata": {},
   "outputs": [],
   "source": [
    "using Immunology\n",
    "\n",
    "names(Immunology, all = true)"
   ]
  },
  {
   "cell_type": "code",
   "execution_count": null,
   "id": "60827980",
   "metadata": {},
   "outputs": [],
   "source": [
    "Immunology.react(Immunology.Th0(), Immunology.IL12())"
   ]
  },
  {
   "cell_type": "code",
   "execution_count": null,
   "id": "b150e887",
   "metadata": {},
   "outputs": [],
   "source": [
    "Immunology.react(Immunology.CD16(), Immunology.FC())"
   ]
  },
  {
   "cell_type": "code",
   "execution_count": null,
   "id": "f2f03380",
   "metadata": {},
   "outputs": [],
   "source": [
    "Immunology.react(Immunology.Neutrophil(), Immunology.FC())"
   ]
  },
  {
   "cell_type": "code",
   "execution_count": null,
   "id": "13fc8461",
   "metadata": {},
   "outputs": [],
   "source": [
    "Immunology.react(Immunology.Macrophage(), Immunology.FC())"
   ]
  },
  {
   "cell_type": "code",
   "execution_count": null,
   "id": "762af6db",
   "metadata": {},
   "outputs": [],
   "source": [
    "Immunology.react(Immunology.NaturalKillerCell(), Immunology.FC())"
   ]
  },
  {
   "cell_type": "code",
   "execution_count": null,
   "id": "2d13c24c",
   "metadata": {},
   "outputs": [],
   "source": [
    "Immunology.react(Immunology.MHC1(), Immunology.Antigen())"
   ]
  },
  {
   "cell_type": "code",
   "execution_count": null,
   "id": "ff636105",
   "metadata": {},
   "outputs": [],
   "source": [
    "Immunology.react(Immunology.CD8(), Immunology.MHC1Antigen())"
   ]
  },
  {
   "cell_type": "code",
   "execution_count": null,
   "id": "14f3038a",
   "metadata": {},
   "outputs": [],
   "source": [
    "Immunology.react(Immunology.CD8T(), Immunology.Cell())"
   ]
  },
  {
   "cell_type": "markdown",
   "id": "a37c851a",
   "metadata": {},
   "source": [
    "## Introspect"
   ]
  },
  {
   "cell_type": "code",
   "execution_count": null,
   "id": "a67cdf1d",
   "metadata": {},
   "outputs": [],
   "source": [
    "fieldnames(Immunology.Cell)"
   ]
  },
  {
   "cell_type": "code",
   "execution_count": null,
   "id": "519b78a4",
   "metadata": {},
   "outputs": [],
   "source": [
    "methods(Immunology.Cell)"
   ]
  },
  {
   "cell_type": "code",
   "execution_count": null,
   "id": "67aec10a",
   "metadata": {},
   "outputs": [],
   "source": [
    "methods(Immunology.react)"
   ]
  }
 ],
 "metadata": {
  "@webio": {
   "lastCommId": null,
   "lastKernelId": null
  },
  "kernelspec": {
   "display_name": "Julia 1.7.2",
   "language": "julia",
   "name": "julia-1.7"
  },
  "language_info": {
   "file_extension": ".jl",
   "mimetype": "application/julia",
   "name": "julia",
   "version": "1.7.2"
  }
 },
 "nbformat": 4,
 "nbformat_minor": 5
}
