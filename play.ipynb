{
 "cells": [
  {
   "cell_type": "code",
   "execution_count": null,
   "id": "06cd8e7d",
   "metadata": {},
   "outputs": [],
   "source": [
    "using Revise"
   ]
  },
  {
   "cell_type": "code",
   "execution_count": null,
   "id": "7d27874d",
   "metadata": {},
   "outputs": [],
   "source": [
    "using Kumo"
   ]
  },
  {
   "cell_type": "code",
   "execution_count": null,
   "id": "776c1d67",
   "metadata": {},
   "outputs": [],
   "source": [
    "include(\"immunology/_.jl\")\n",
    "\n",
    "Kumo.plot()"
   ]
  },
  {
   "cell_type": "code",
   "execution_count": null,
   "id": "b9b8f195",
   "metadata": {},
   "outputs": [],
   "source": [
    "Kumo.connect_struct()\n",
    "\n",
    "Kumo.plot()"
   ]
  },
  {
   "cell_type": "code",
   "execution_count": null,
   "id": "56e5bb4b",
   "metadata": {},
   "outputs": [],
   "source": [
    "Kumo.reset()"
   ]
  }
 ],
 "metadata": {
  "@webio": {
   "lastCommId": null,
   "lastKernelId": null
  },
  "kernelspec": {
   "display_name": "Julia 1.7.2",
   "language": "julia",
   "name": "julia-1.7"
  },
  "language_info": {
   "file_extension": ".jl",
   "mimetype": "application/julia",
   "name": "julia",
   "version": "1.7.2"
  }
 },
 "nbformat": 4,
 "nbformat_minor": 5
}
