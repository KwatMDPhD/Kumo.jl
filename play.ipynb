{
 "cells": [
  {
   "cell_type": "code",
   "execution_count": null,
   "id": "06cd8e7d",
   "metadata": {},
   "outputs": [],
   "source": [
    "using Revise"
   ]
  },
  {
   "cell_type": "code",
   "execution_count": null,
   "id": "dee6295e",
   "metadata": {},
   "outputs": [],
   "source": [
    "using Kumo"
   ]
  },
  {
   "cell_type": "code",
   "execution_count": null,
   "id": "031efd66",
   "metadata": {},
   "outputs": [],
   "source": [
    "include(\"immunology/_.jl\")\n",
    "\n",
    "Kumo.plot()"
   ]
  },
  {
   "cell_type": "code",
   "execution_count": null,
   "id": "fbebe176",
   "metadata": {},
   "outputs": [],
   "source": [
    "Kumo.connect_struct()\n",
    "\n",
    "Kumo.plot()"
   ]
  },
  {
   "cell_type": "code",
   "execution_count": null,
   "id": "f253af5d",
   "metadata": {},
   "outputs": [],
   "source": [
    "Kumo.reset()"
   ]
  }
 ],
 "metadata": {
  "@webio": {
   "lastCommId": null,
   "lastKernelId": null
  },
  "kernelspec": {
   "display_name": "Julia 1.7.2",
   "language": "julia",
   "name": "julia-1.7"
  },
  "language_info": {
   "file_extension": ".jl",
   "mimetype": "application/julia",
   "name": "julia",
   "version": "1.7.2"
  }
 },
 "nbformat": 4,
 "nbformat_minor": 5
}
