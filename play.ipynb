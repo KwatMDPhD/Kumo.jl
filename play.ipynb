{
 "cells": [
  {
   "cell_type": "code",
   "execution_count": null,
   "id": "a88ac411",
   "metadata": {},
   "outputs": [],
   "source": [
    "using Revise"
   ]
  },
  {
   "cell_type": "code",
   "execution_count": null,
   "id": "8a9ddc2a",
   "metadata": {},
   "outputs": [],
   "source": [
    "using Immunology"
   ]
  },
  {
   "cell_type": "code",
   "execution_count": null,
   "id": "0942c25f",
   "metadata": {},
   "outputs": [],
   "source": [
    "names(Immunology, all = true)"
   ]
  }
 ],
 "metadata": {
  "@webio": {
   "lastCommId": null,
   "lastKernelId": null
  },
  "kernelspec": {
   "display_name": "Julia 1.7.2",
   "language": "julia",
   "name": "julia-1.7"
  },
  "language_info": {
   "file_extension": ".jl",
   "mimetype": "application/julia",
   "name": "julia",
   "version": "1.7.2"
  }
 },
 "nbformat": 4,
 "nbformat_minor": 5
}
