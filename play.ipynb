{
 "cells": [
  {
   "cell_type": "code",
   "execution_count": null,
   "id": "06cd8e7d",
   "metadata": {},
   "outputs": [],
   "source": [
    "using Revise"
   ]
  },
  {
   "cell_type": "code",
   "execution_count": null,
   "id": "9d846989",
   "metadata": {},
   "outputs": [],
   "source": [
    "using Kumo"
   ]
  },
  {
   "cell_type": "code",
   "execution_count": null,
   "id": "a09c8aca",
   "metadata": {},
   "outputs": [],
   "source": [
    "include(\"immunology/_.jl\")\n",
    "\n",
    "Kumo.plot()"
   ]
  },
  {
   "cell_type": "code",
   "execution_count": null,
   "id": "055f1846",
   "metadata": {},
   "outputs": [],
   "source": [
    "Kumo.connect_struct()\n",
    "\n",
    "Kumo.plot()"
   ]
  },
  {
   "cell_type": "code",
   "execution_count": null,
   "id": "afb32bcf",
   "metadata": {},
   "outputs": [],
   "source": [
    "Kumo.reset()"
   ]
  },
  {
   "cell_type": "code",
   "execution_count": null,
   "id": "717e88e0",
   "metadata": {},
   "outputs": [],
   "source": [
    "struct ArtistCell end\n",
    "struct ArtProtein end\n",
    "ArtistCell * ArtProtein\n",
    "\n",
    "struct HunterCell end\n",
    "struct BowProtein end\n",
    "struct ElkHuntingPhenotype end\n",
    "[HunterCell, BowProtein] * ElkHuntingPhenotype\n",
    "\n",
    "struct EntrepreneurCell end\n",
    "struct ProblemProtein end\n",
    "struct SolutionProtein end\n",
    "[EntrepreneurCell, ProblemProtein] * SolutionProtein\n",
    "\n",
    "struct ChocolateProtein end\n",
    "struct MarshmellowProtein end\n",
    "struct SmoreProtein end\n",
    "[ChocolateProtein, MarshmellowProtein] * SmoreProtein\n",
    "\n",
    "struct ParentCell end\n",
    "struct HappyCascade end\n",
    "\n",
    "struct ChristmasProtein end\n",
    "struct NewToyProtein end\n",
    "[ParentCell, HappyCascade, ChristmasProtein] * NewToyProtein\n",
    "\n",
    "struct SummerProtein end\n",
    "struct FishingProtein end\n",
    "[ParentCell, HappyCascade, SummerProtein] * FishingProtein\n",
    "\n",
    "struct BullMarketCascade end\n",
    "struct PrivateJetProtein end\n",
    "[ParentCell, BullMarketCascade, HappyCascade] * PrivateJetProtein\n",
    "\n",
    "Kumo.plot()\n",
    "\n",
    "Kumo.reset()"
   ]
  }
 ],
 "metadata": {
  "@webio": {
   "lastCommId": null,
   "lastKernelId": null
  },
  "kernelspec": {
   "display_name": "Julia 1.7.2",
   "language": "julia",
   "name": "julia-1.7"
  },
  "language_info": {
   "file_extension": ".jl",
   "mimetype": "application/julia",
   "name": "julia",
   "version": "1.7.2"
  }
 },
 "nbformat": 4,
 "nbformat_minor": 5
}
