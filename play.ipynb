{
 "cells": [
  {
   "cell_type": "code",
   "execution_count": 249,
   "id": "06cd8e7d",
   "metadata": {},
   "outputs": [],
   "source": [
    "using Revise"
   ]
  },
  {
   "cell_type": "code",
   "execution_count": 250,
   "id": "dee6295e",
   "metadata": {},
   "outputs": [],
   "source": [
    "using Kumo"
   ]
  },
  {
   "cell_type": "code",
   "execution_count": 258,
   "id": "02a26c60",
   "metadata": {},
   "outputs": [
    {
     "data": {
      "text/plain": [
       "\"/Users/kwat/.julia/scratchspaces/1fe83854-81c0-42f7-afc9-71ba9af673ca/html/scratch.html\""
      ]
     },
     "execution_count": 258,
     "metadata": {},
     "output_type": "execute_result"
    }
   ],
   "source": [
    "include(\"../Immunology.ito/_.jl\")\n",
    "\n",
    "Kumo.connect_struct()\n",
    "\n",
    "Kumo.plot()"
   ]
  },
  {
   "cell_type": "code",
   "execution_count": 257,
   "id": "f7ee9eb4",
   "metadata": {},
   "outputs": [
    {
     "data": {
      "text/plain": [
       "Any[]"
      ]
     },
     "execution_count": 257,
     "metadata": {},
     "output_type": "execute_result"
    }
   ],
   "source": [
    "Kumo.reset()"
   ]
  }
 ],
 "metadata": {
  "@webio": {
   "lastCommId": null,
   "lastKernelId": null
  },
  "kernelspec": {
   "display_name": "Julia 1.7.2",
   "language": "julia",
   "name": "julia-1.7"
  },
  "language_info": {
   "file_extension": ".jl",
   "mimetype": "application/julia",
   "name": "julia",
   "version": "1.7.2"
  }
 },
 "nbformat": 4,
 "nbformat_minor": 5
}
